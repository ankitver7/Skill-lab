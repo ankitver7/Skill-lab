{
 "cells": [
  {
   "cell_type": "code",
   "execution_count": 7,
   "id": "f74b6e6c-ca97-4631-8d52-c7f0c0081d12",
   "metadata": {},
   "outputs": [],
   "source": [
    "#def password(pwd):\n",
    "#    if len(pwd) < 4:\n",
    "#        return 0\n",
    "#    if pwd[0].isdigit():\n",
    "#        return 0\n",
    "#   cap = 0\n",
    "#  nu = 0\n",
    "#    for i in pwd:\n",
    "#        if i.isupper():\n",
    "#            cap = 1\n",
    "#        elif i.isdigit():\n",
    "#            nu = 1\n",
    "#        elif i==\" \" or i==\"/\":\n",
    "#           return 0\n",
    "#        if cap==1 and nu==1:\n",
    "#            return 1"
   ]
  },
  {
   "cell_type": "code",
   "execution_count": 6,
   "id": "14bc1548-48b0-4298-81a5-5dad89102de1",
   "metadata": {},
   "outputs": [
    {
     "data": {
      "text/plain": [
       "1"
      ]
     },
     "execution_count": 6,
     "metadata": {},
     "output_type": "execute_result"
    }
   ],
   "source": [
    "#password(\"gs@SF3\")"
   ]
  },
  {
   "cell_type": "code",
   "execution_count": 8,
   "id": "82cbf4d2-1020-4204-b36d-a03df77e070f",
   "metadata": {},
   "outputs": [
    {
     "name": "stdin",
     "output_type": "stream",
     "text": [
      " 4\n",
      " 20\n"
     ]
    },
    {
     "name": "stdout",
     "output_type": "stream",
     "text": [
      "90\n"
     ]
    }
   ],
   "source": [
    "n=int(input())\n",
    "m=int(input())\n",
    "div=[]\n",
    "ndiv=[]\n",
    "for i in range(1, m+1):\n",
    "    if i%n==0:\n",
    "        div.append(i)\n",
    "    else:\n",
    "        ndiv.append(i)\n",
    "g=sum(div)\n",
    "h=sum(ndiv)\n",
    "print(h-g)"
   ]
  },
  {
   "cell_type": "code",
   "execution_count": 10,
   "id": "29f60bff-eddf-4493-beae-14c51d5c727c",
   "metadata": {},
   "outputs": [
    {
     "name": "stdout",
     "output_type": "stream",
     "text": [
      "[4, 3, 2]\n",
      "[1, 6, 11]\n",
      "9\n"
     ]
    }
   ],
   "source": [
    "num1=[4,1,3,6,2,11]\n",
    "n= len(num1)\n",
    "even=num1[0:n:2]\n",
    "odd=num1[1:n:2]\n",
    "print(even)\n",
    "print(odd)\n",
    "#print(even[1]+odd[1])"
   ]
  },
  {
   "cell_type": "code",
   "execution_count": 11,
   "id": "40cae0b6-a754-4995-b0ef-f6f2bf14c4e5",
   "metadata": {},
   "outputs": [],
   "source": [
    "def lss(arr):\n",
    "    n= len(arr)\n",
    "    e= arr[0:n:2]\n",
    "    o= arr[1:n:2]\n",
    "    e.sort(reverse= True)\n",
    "    o.sort()\n",
    "    return e[1]+o[1]"
   ]
  },
  {
   "cell_type": "code",
   "execution_count": 12,
   "id": "fd1678f6-c0cf-4eb6-8a1e-6dfaba24446a",
   "metadata": {},
   "outputs": [
    {
     "data": {
      "text/plain": [
       "9"
      ]
     },
     "execution_count": 12,
     "metadata": {},
     "output_type": "execute_result"
    }
   ],
   "source": [
    "lss([4,1,3,6,2,11,5,5])"
   ]
  },
  {
   "cell_type": "code",
   "execution_count": 13,
   "id": "e6255094-0cfb-4ab9-9eb4-cc251514ecf1",
   "metadata": {},
   "outputs": [],
   "source": [
    "def product(arr, sum):\n",
    "    arr.sort()\n",
    "    if arr[0]+arr[1]<=sum:\n",
    "        return 0\n",
    "    else:\n",
    "        print(arr[0]*arr[1])\n",
    "    n=len(arr)\n",
    "    if n<2:\n",
    "        print(\"-1\")"
   ]
  },
  {
   "cell_type": "code",
   "execution_count": 18,
   "id": "5436cc5f-c3e2-4575-8ba6-8d9c499ae84d",
   "metadata": {},
   "outputs": [
    {
     "name": "stdout",
     "output_type": "stream",
     "text": [
      "6\n"
     ]
    }
   ],
   "source": [
    "product([2,3,4,6,8,7],2)"
   ]
  },
  {
   "cell_type": "code",
   "execution_count": 19,
   "id": "4c892230-f81f-4d5e-a3d7-77962fe37a61",
   "metadata": {},
   "outputs": [],
   "source": [
    "def difference(arr, num, diff):\n",
    "    count=0\n",
    "    for i in arr:\n",
    "        if abs(i-num) <= diff:\n",
    "            count = count+1\n",
    "    if count==0:\n",
    "        return -1\n",
    "    else:\n",
    "        return count"
   ]
  },
  {
   "cell_type": "code",
   "execution_count": 23,
   "id": "10b06c7e-6596-4670-bbfa-40d4ec17cfab",
   "metadata": {},
   "outputs": [
    {
     "data": {
      "text/plain": [
       "2"
      ]
     },
     "execution_count": 23,
     "metadata": {},
     "output_type": "execute_result"
    }
   ],
   "source": [
    "difference([9,7,13,21,5],8,2)"
   ]
  },
  {
   "cell_type": "code",
   "execution_count": 26,
   "id": "d1bb92a8-2800-4d9a-bc46-3d7b5222e54d",
   "metadata": {},
   "outputs": [
    {
     "name": "stdout",
     "output_type": "stream",
     "text": [
      "False\n"
     ]
    }
   ],
   "source": [
    "dict1 = { '(' : ')','{' : '}','[' : ']' }\n",
    "i = ')'\n",
    "print(i in dict1)"
   ]
  },
  {
   "cell_type": "code",
   "execution_count": 31,
   "id": "c9c51769-7236-4d57-813c-90a529b75883",
   "metadata": {},
   "outputs": [],
   "source": [
    "def validpara(p):\n",
    "    dict1 = { '(' : ')','{' : '}','[' : ']' }\n",
    "    stack=[]\n",
    "    for i in p:\n",
    "        else:\n",
    "            if stack[-1]==i:\n",
    "                stack.pop()\n",
    "    if len(stack)==0:\n",
    "        return \"valid\"\n",
    "    else:\n",
    "        if i in dict1:\n",
    "            stack.append(dict1[i])\n",
    "        return \"invaild\""
   ]
  },
  {
   "cell_type": "code",
   "execution_count": 32,
   "id": "e7ed95be-aedf-4a02-97c9-1aadfeaf27f6",
   "metadata": {},
   "outputs": [
    {
     "data": {
      "text/plain": [
       "'valid'"
      ]
     },
     "execution_count": 32,
     "metadata": {},
     "output_type": "execute_result"
    }
   ],
   "source": [
    "validpara('[{()}]')"
   ]
  },
  {
   "cell_type": "code",
   "execution_count": null,
   "id": "037c7e07-8fee-4667-a849-cc70c1c20a26",
   "metadata": {},
   "outputs": [],
   "source": []
  }
 ],
 "metadata": {
  "kernelspec": {
   "display_name": "Python 3 (ipykernel)",
   "language": "python",
   "name": "python3"
  },
  "language_info": {
   "codemirror_mode": {
    "name": "ipython",
    "version": 3
   },
   "file_extension": ".py",
   "mimetype": "text/x-python",
   "name": "python",
   "nbconvert_exporter": "python",
   "pygments_lexer": "ipython3",
   "version": "3.12.4"
  }
 },
 "nbformat": 4,
 "nbformat_minor": 5
}
