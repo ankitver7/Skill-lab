{
 "cells": [
  {
   "cell_type": "code",
   "execution_count": 9,
   "id": "5a4b7457-6b1c-443c-b0c0-0db1c22b5132",
   "metadata": {},
   "outputs": [],
   "source": [
    "class Node:\n",
    "    def _init_(self, data):\n",
    "        self.data = data\n",
    "        self.next = None\n",
    "\n",
    "class LinkedList:\n",
    "    def _init_(self):\n",
    "        self.head = None\n",
    "\n",
    "    def insertAtBegin(self, data):\n",
    "        new_node = Node(data)\n",
    "        if self.head is None:\n",
    "            self.head = new_node\n",
    "            return\n",
    "        else:\n",
    "            new_node.next = self.head\n",
    "            self.head = new_node\n",
    "\n",
    "    def insertAtEnd(self, data):\n",
    "        new_node = Node(data)\n",
    "        if self.head is None:  \n",
    "            self.head = new_node\n",
    "            return\n",
    "        last = self.head\n",
    "        while last.next:\n",
    "            last = last.next\n",
    "        last.next = new_node\n",
    "\n",
    "    def printList(self):\n",
    "        current = self.head\n",
    "        while current:\n",
    "            print(current.data, end=' --> ')\n",
    "            current = current.next\n",
    "        print('None')\n",
    "    def delete(self,val):\n",
    "        if self.head is None:\n",
    "            return \"empty\"\n",
    "        current=self.head\n",
    "        while current.next:\n",
    "            if current.next==val:\n",
    "                break\n",
    "            current=current.next\n",
    "        if current.next==None:\n",
    "            print(\"not exist\")\n",
    "        else:\n",
    "            current.next=current.next.next\n",
    "    def hascycle(self):\n",
    "    t=t.next\n",
    "    r=r.next.next\n",
    "    if r==t:\n",
    "        return \"cycle found\"\n",
    "    return \"no cycle\"\n",
    "    def middleNode(self, head):\n",
    "            t= r = head\n",
    "            while r and r.next:\n",
    "                t= t.next\n",
    "                r= r.next.next\n",
    "            return t.data\n",
    "    def reverseList(self,head):\n",
    "        prev=None\n",
    "        current=head\n",
    "        while current:\n",
    "            nextnode = current.next\n",
    "            current.next = prev\n",
    "            prev = current\n",
    "            current = nextnode\n",
    "        self.head = prev\n",
    "        return prev"
   ]
  },
  {
   "cell_type": "code",
   "execution_count": null,
   "id": "646e17ae-c013-4ffe-8830-0f70c1609276",
   "metadata": {},
   "outputs": [],
   "source": [
    "ll = LinkedList()\n",
    "ll.insertAtBegin(10)\n",
    "ll.insertAtBegin(15)\n",
    "ll.insertAtBegin(18)\n",
    "ll.delete(10)\n",
    "printlist()"
   ]
  },
  {
   "cell_type": "code",
   "execution_count": 11,
   "id": "12853683-4393-47be-8f8a-01d09af35fc0",
   "metadata": {},
   "outputs": [],
   "source": [
    "def merge(self, l1,l2):\n",
    "    dummy = Node(0)\n",
    "    current = dummy\n",
    "    while l1 and l2:\n",
    "        if l1.val < l2.val:\n",
    "            current.next = l1\n",
    "            l1 = l1.next\n",
    "        else:\n",
    "            current.next = 12\n",
    "            l2 = l2.next\n",
    "    if l1:\n",
    "        current.next=l1\n",
    "    elif l2:\n",
    "        current.next = l2\n",
    "    return dummy.next"
   ]
  },
  {
   "cell_type": "code",
   "execution_count": 16,
   "id": "8187a2e0-96d4-4fb9-926b-2f8da5d91e27",
   "metadata": {},
   "outputs": [],
   "source": [
    "def postive_int(m,n):\n",
    "    result=0\n",
    "    for i in range(m,n+1):\n",
    "        if i%3==0 and i%5==0:\n",
    "            result+=i\n",
    "    return result"
   ]
  },
  {
   "cell_type": "code",
   "execution_count": 17,
   "id": "214f14d7-f796-4265-a1cf-9574f677a911",
   "metadata": {},
   "outputs": [
    {
     "data": {
      "text/plain": [
       "90"
      ]
     },
     "execution_count": 17,
     "metadata": {},
     "output_type": "execute_result"
    }
   ],
   "source": [
    "postive_int(12,50)"
   ]
  },
  {
   "cell_type": "code",
   "execution_count": 18,
   "id": "b91ef618-d98b-48b0-98b6-f07bcb889d2b",
   "metadata": {},
   "outputs": [],
   "source": [
    "def addtwonumber(l1,l2):\n",
    "    dummy = Linkedlist.Node(0)\n",
    "    current = dummy\n",
    "    carry = 0\n",
    "    while l1 or l2 or carry:\n",
    "        val1 = l1.data if l1 else 0\n",
    "        val2 = l2.data if l2 else 0\n",
    "        #saving carry for next iteration\n",
    "        carry = total//10\n",
    "        element = total%10\n",
    "        newnode= Linkedlist.Node(element)\n",
    "        current.next = newnode\n",
    "        current=current.node\n",
    "        l1= l1.next if l1 else 0\n",
    "        l2= l2.next if l2 else 0\n",
    "    return dummy.next"
   ]
  },
  {
   "cell_type": "code",
   "execution_count": 19,
   "id": "b3ad0e04-4105-4e80-b071-d5fb805fe8c9",
   "metadata": {},
   "outputs": [],
   "source": [
    "def maxsum(arr):\n",
    "    c=arr[0]\n",
    "    g=arr[0]\n",
    "    for i in range(1, len(arr)):\n",
    "        c = max(arr[i], c+arr[i])\n",
    "        g= max(c,g)\n",
    "    return g"
   ]
  },
  {
   "cell_type": "code",
   "execution_count": 20,
   "id": "e617b3dc-81d5-448b-87ae-898a0eaad7da",
   "metadata": {},
   "outputs": [
    {
     "data": {
      "text/plain": [
       "11"
      ]
     },
     "execution_count": 20,
     "metadata": {},
     "output_type": "execute_result"
    }
   ],
   "source": [
    "maxsum([-1,-2,3,7,1,-6])"
   ]
  },
  {
   "cell_type": "code",
   "execution_count": 21,
   "id": "2d3ebd13-92c6-4f4c-9024-f744a37216d9",
   "metadata": {},
   "outputs": [],
   "source": [
    "class stack:\n",
    "    def __init__(self):\n",
    "        self.s1=[]\n",
    "        self.temp=[]\n",
    "    def push(self, val):\n",
    "        while self.s1:\n",
    "            popped= self.s1.pop()\n",
    "            self.temp.append(popped)\n",
    "        self.s1.append(val)\n",
    "        while self.temp:\n",
    "            poped=self.temp.pop()\n",
    "            self.s1.append(poped)\n",
    "    def pop(self):\n",
    "        return self.s1.pop() if self.s1 else \"no element\"\n",
    "    def peek(self):\n",
    "        return self.s1[-1] if self.s1 else \"no element\"\n",
    "    def empty(self):\n",
    "        return len(self.s1)==0"
   ]
  },
  {
   "cell_type": "code",
   "execution_count": null,
   "id": "dc5f08bd-d2fa-480e-ae5a-f48a1326551e",
   "metadata": {},
   "outputs": [],
   "source": []
  }
 ],
 "metadata": {
  "kernelspec": {
   "display_name": "Python 3 (ipykernel)",
   "language": "python",
   "name": "python3"
  },
  "language_info": {
   "codemirror_mode": {
    "name": "ipython",
    "version": 3
   },
   "file_extension": ".py",
   "mimetype": "text/x-python",
   "name": "python",
   "nbconvert_exporter": "python",
   "pygments_lexer": "ipython3",
   "version": "3.12.4"
  }
 },
 "nbformat": 4,
 "nbformat_minor": 5
}
