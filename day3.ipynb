{
 "cells": [
  {
   "cell_type": "code",
   "execution_count": 1,
   "id": "56e51ca5-1765-4757-bc13-8668d5d0c34b",
   "metadata": {},
   "outputs": [
    {
     "name": "stdout",
     "output_type": "stream",
     "text": [
      "3\n"
     ]
    }
   ],
   "source": [
    "a=\"11\"\n",
    "b=int(a,2)\n",
    "print(b)"
   ]
  },
  {
   "cell_type": "code",
   "execution_count": 2,
   "id": "b5582be2-f3ef-436e-8cc9-1db9459ff242",
   "metadata": {},
   "outputs": [
    {
     "name": "stdout",
     "output_type": "stream",
     "text": [
      "1\n"
     ]
    }
   ],
   "source": [
    "c=\"1\"\n",
    "d=int(c,2)\n",
    "print(d)"
   ]
  },
  {
   "cell_type": "code",
   "execution_count": 3,
   "id": "1009b0dd-316d-49e4-8e7e-97c6234f5a20",
   "metadata": {},
   "outputs": [
    {
     "data": {
      "text/plain": [
       "'100'"
      ]
     },
     "execution_count": 3,
     "metadata": {},
     "output_type": "execute_result"
    }
   ],
   "source": [
    "bin(b+d)[2:]"
   ]
  },
  {
   "cell_type": "code",
   "execution_count": 6,
   "id": "8067a082-4a69-4b0f-8ce2-ac784aaf6dd7",
   "metadata": {},
   "outputs": [],
   "source": [
    "def binadd(a,b):\n",
    "    return bin(int(a,2)+int(b,2))"
   ]
  },
  {
   "cell_type": "code",
   "execution_count": 7,
   "id": "265b3c49-290c-463f-bb93-9c15c28688c5",
   "metadata": {},
   "outputs": [
    {
     "data": {
      "text/plain": [
       "'0b110'"
      ]
     },
     "execution_count": 7,
     "metadata": {},
     "output_type": "execute_result"
    }
   ],
   "source": [
    "binadd(\"101\",\"1\")"
   ]
  },
  {
   "cell_type": "code",
   "execution_count": 9,
   "id": "83bac39c-4436-4912-b8b5-c2d56a91403f",
   "metadata": {},
   "outputs": [],
   "source": [
    "def sumofdistance(x1,x2,x3,y1,y2,y3):\n",
    "    AB = ((x2-x1)**2+(y2-y1)**2)**0.5\n",
    "    BC = ((x3-x2)**2+(y3-y2)**2)**0.5\n",
    "    CA = ((x1-x3)**2+(y1-y3)**2)**0.5\n",
    "    return AB+BC+CA"
   ]
  },
  {
   "cell_type": "code",
   "execution_count": 10,
   "id": "c56f5b34-eb87-40d2-85a7-3546cc9df64a",
   "metadata": {},
   "outputs": [
    {
     "data": {
      "text/plain": [
       "10.783510444802673"
      ]
     },
     "execution_count": 10,
     "metadata": {},
     "output_type": "execute_result"
    }
   ],
   "source": [
    "sumofdistance(x1 = 1,y1 = 1,x2 = 2,y2 = 4,x3 = 3,y3 = 6)"
   ]
  },
  {
   "cell_type": "code",
   "execution_count": 11,
   "id": "e1909693-fa1f-4e3c-a5e3-0abdc1004be3",
   "metadata": {},
   "outputs": [],
   "source": [
    "def atoi(s):\n",
    "    s=s.strip()\n",
    "    sign=1 \n",
    "    if len(s)==0:\n",
    "        return 0\n",
    "    if s[0]=='-':\n",
    "        sign=-1\n",
    "        s=s[1:]\n",
    "    elif s[0]=='+':\n",
    "        s=s[1:]\n",
    "    result =0\n",
    "    for i in s:\n",
    "        if i.isdigit():\n",
    "            digit=int(i)\n",
    "            result = result*10+digit \n",
    "        else:\n",
    "            break\n",
    "    result = result*sign\n",
    "    mini=-2**31\n",
    "    maxi=2**31-1\n",
    "    if result>maxi:\n",
    "        return maxi\n",
    "    if result<mini:\n",
    "        return mini\n",
    "    else:\n",
    "        return result"
   ]
  },
  {
   "cell_type": "code",
   "execution_count": 12,
   "id": "d22fef67-f3e5-4474-bfdc-4669bc5c73ec",
   "metadata": {},
   "outputs": [
    {
     "data": {
      "text/plain": [
       "5435"
      ]
     },
     "execution_count": 12,
     "metadata": {},
     "output_type": "execute_result"
    }
   ],
   "source": [
    "atoi(\"   5435\")"
   ]
  },
  {
   "cell_type": "code",
   "execution_count": 15,
   "id": "401829b0-9aa8-4a78-afa9-21be99d7fd7d",
   "metadata": {},
   "outputs": [],
   "source": [
    "def rtoi(s):\n",
    "    R = {'I': 1, 'V': 5, 'X': 10, 'L': 50,'C': 100, 'D': 500, 'M': 1000}\n",
    "    total = 0\n",
    "    for i in range(len(s)):\n",
    "        cval=R[s[i]]\n",
    "        nval=R[s[i+1]] if i+1<len(s) else 0\n",
    "        if cval >= nval:\n",
    "            total += cval\n",
    "        else:\n",
    "            total -= cval\n",
    "    return total\n",
    "    "
   ]
  },
  {
   "cell_type": "code",
   "execution_count": 18,
   "id": "273d6710-5aa0-4ecf-b069-0feb19e463c2",
   "metadata": {},
   "outputs": [
    {
     "data": {
      "text/plain": [
       "14"
      ]
     },
     "execution_count": 18,
     "metadata": {},
     "output_type": "execute_result"
    }
   ],
   "source": [
    "rtoi(\"XIV\")"
   ]
  },
  {
   "cell_type": "code",
   "execution_count": 20,
   "id": "a6bc3494-5448-4cbe-ab43-d33ea471d688",
   "metadata": {},
   "outputs": [],
   "source": [
    "import random"
   ]
  },
  {
   "cell_type": "code",
   "execution_count": 23,
   "id": "e8ec04ad-ff80-4411-bd9d-ebbdd4078105",
   "metadata": {},
   "outputs": [
    {
     "name": "stdout",
     "output_type": "stream",
     "text": [
      "[5, 4, 3, 1, 2]\n"
     ]
    }
   ],
   "source": [
    "lst=[1,2,3,4,5]\n",
    "random.shuffle(lst)\n",
    "print(lst)"
   ]
  },
  {
   "cell_type": "code",
   "execution_count": 24,
   "id": "786c693c-df05-4995-b632-2ca58a3b2986",
   "metadata": {},
   "outputs": [],
   "source": [
    "def ramdomize(arr):\n",
    "    import random as rd\n",
    "    rd.shuffle(arr)\n",
    "    return arr"
   ]
  },
  {
   "cell_type": "code",
   "execution_count": 30,
   "id": "89f32871-e941-4244-8ca3-47bba94607aa",
   "metadata": {},
   "outputs": [
    {
     "data": {
      "text/plain": [
       "[1, 3, 5, 4, 2]"
      ]
     },
     "execution_count": 30,
     "metadata": {},
     "output_type": "execute_result"
    }
   ],
   "source": [
    "ramdomize([1,2,3,4,5])"
   ]
  },
  {
   "cell_type": "code",
   "execution_count": 31,
   "id": "77864d1a-902b-49f7-8db7-4172387bccb1",
   "metadata": {},
   "outputs": [],
   "source": [
    "def substring(haystack, needle):\n",
    "    return haystack.find(needle)"
   ]
  },
  {
   "cell_type": "code",
   "execution_count": 32,
   "id": "729bd1ad-5cdb-4c59-a2de-a8eac52baadf",
   "metadata": {},
   "outputs": [
    {
     "data": {
      "text/plain": [
       "20"
      ]
     },
     "execution_count": 32,
     "metadata": {},
     "output_type": "execute_result"
    }
   ],
   "source": [
    "haystack = 'hellojwalihellojwalihow'\n",
    "needle= 'how'\n",
    "substring(haystack, needle)"
   ]
  },
  {
   "cell_type": "code",
   "execution_count": 44,
   "id": "195f3175-dc09-4460-b6cd-1ddafcfef428",
   "metadata": {},
   "outputs": [],
   "source": [
    "def twoSum( nums, target):\n",
    "        for i in range(len(nums)):\n",
    "            for j in range(i+1,len(nums)):\n",
    "                if nums[i]+nums[j]==target:\n",
    "                     print(i,j)"
   ]
  },
  {
   "cell_type": "code",
   "execution_count": 46,
   "id": "a2c0cf9e-8255-465b-810a-8c5d47d51481",
   "metadata": {},
   "outputs": [
    {
     "name": "stdout",
     "output_type": "stream",
     "text": [
      "0 4\n",
      "1 5\n"
     ]
    }
   ],
   "source": [
    "twoSum([2,3,11,15,7,6],9)"
   ]
  },
  {
   "cell_type": "code",
   "execution_count": 63,
   "id": "89fe4ab0-a183-418f-9dfa-88a6e543960d",
   "metadata": {},
   "outputs": [],
   "source": [
    "def tax(sal):\n",
    "    res=0\n",
    "    if sal<0:\n",
    "        return 0\n",
    "    elif sal>=0 and sal<=5000:\n",
    "        return \"No Tax\"\n",
    "    elif sal>=5001 and sal<=10000:\n",
    "        res=res+(sal-(sal*0.05+10))\n",
    "        return res\n",
    "    elif sal>=10001 and sal<=50000:\n",
    "        res=res+(sal-(sal*0.1+100))\n",
    "        return res\n",
    "    elif sal>=50001 and sal<=100000:\n",
    "        res=res+(sal-(sal*0.15+10))\n",
    "        return res\n",
    "    elif sal>=100000 and sal<=500000:\n",
    "        res=res+(sal-(sal*0.2+10))\n",
    "        return res\n",
    "    elif sal>500000:\n",
    "        return \"Salary Limit Exceeded\""
   ]
  },
  {
   "cell_type": "code",
   "execution_count": 64,
   "id": "46a1169f-dd68-4981-bfc6-13a74ddff486",
   "metadata": {},
   "outputs": [
    {
     "data": {
      "text/plain": [
       "11600.0"
      ]
     },
     "execution_count": 64,
     "metadata": {},
     "output_type": "execute_result"
    }
   ],
   "source": [
    "tax(13000)"
   ]
  },
  {
   "cell_type": "code",
   "execution_count": 65,
   "id": "c8936e65-5359-4213-a1f6-46f1b0e5e809",
   "metadata": {},
   "outputs": [],
   "source": [
    "def dupli(nums):\n",
    "    ind = 0\n",
    "    for i in range(1, len(nums)):\n",
    "        if nums[ind] != nums[i]:\n",
    "            ind = ind+1\n",
    "            nums[ind] = nums[i]\n",
    "        return ind+1"
   ]
  },
  {
   "cell_type": "code",
   "execution_count": 66,
   "id": "85a4b988-5d94-493a-a4ce-ef12939aed68",
   "metadata": {},
   "outputs": [
    {
     "data": {
      "text/plain": [
       "2"
      ]
     },
     "execution_count": 66,
     "metadata": {},
     "output_type": "execute_result"
    }
   ],
   "source": [
    "dupli([1,2,3,3,4,4,5])"
   ]
  },
  {
   "cell_type": "code",
   "execution_count": 67,
   "id": "9d9c254f-1376-43f4-b585-e5646064459b",
   "metadata": {},
   "outputs": [],
   "source": [
    "def climbstrairs(n):\n",
    "    if n <= 2:\n",
    "        return n\n",
    "    a, b = 1, 2\n",
    "    for i in range(3, n + 1):\n",
    "        a, b = b, a + b\n",
    "    return b\n",
    "    print(climbstrairs(2))\n",
    "    print(climbstrairs(3))"
   ]
  },
  {
   "cell_type": "code",
   "execution_count": null,
   "id": "b5bf64ca-e9e5-41a2-abb2-30019ff17330",
   "metadata": {},
   "outputs": [],
   "source": []
  }
 ],
 "metadata": {
  "kernelspec": {
   "display_name": "Python 3 (ipykernel)",
   "language": "python",
   "name": "python3"
  },
  "language_info": {
   "codemirror_mode": {
    "name": "ipython",
    "version": 3
   },
   "file_extension": ".py",
   "mimetype": "text/x-python",
   "name": "python",
   "nbconvert_exporter": "python",
   "pygments_lexer": "ipython3",
   "version": "3.12.4"
  }
 },
 "nbformat": 4,
 "nbformat_minor": 5
}
